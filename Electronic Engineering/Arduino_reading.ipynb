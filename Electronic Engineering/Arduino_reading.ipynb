{
 "cells": [
  {
   "cell_type": "code",
   "execution_count": 39,
   "metadata": {},
   "outputs": [
    {
     "name": "stdout",
     "output_type": "stream",
     "text": [
      "Introduce un nombre para el fichero:\n",
      "0mt_2\n",
      "Introduce el número de medidas a realizar:\n",
      "50\n"
     ]
    }
   ],
   "source": [
    "import serial\n",
    "import time\n",
    "\n",
    "print(\"Introduce un nombre para el fichero:\")\n",
    "nom=input()\n",
    "print(\"Introduce el número de medidas a realizar:\")\n",
    "num=input()\n",
    "num=int(num)\n",
    "ser = serial.Serial('COM3', 115200) #initialize the communication\n",
    "time.sleep(2)\n",
    "          \n",
    "f=open(nom+\".txt\",\"w\") #write the measurements in a .txt\n",
    "for i in range(num):\n",
    "    b=ser.readline()\n",
    "    string_n=b.decode()\n",
    "    string=string_n.rstrip()\n",
    "    f.write(string)\n",
    "    f.write(\"\\n\")\n",
    "    time.sleep(0.001)  #minimum update rate 6.54 E-4\n",
    "f.close() \n",
    "ser.close() #close the communicationtime.sleep"
   ]
  },
  {
   "cell_type": "code",
   "execution_count": null,
   "metadata": {},
   "outputs": [],
   "source": []
  }
 ],
 "metadata": {
  "kernelspec": {
   "display_name": "Python 3",
   "language": "python",
   "name": "python3"
  },
  "language_info": {
   "codemirror_mode": {
    "name": "ipython",
    "version": 3
   },
   "file_extension": ".py",
   "mimetype": "text/x-python",
   "name": "python",
   "nbconvert_exporter": "python",
   "pygments_lexer": "ipython3",
   "version": "3.7.4"
  }
 },
 "nbformat": 4,
 "nbformat_minor": 2
}
